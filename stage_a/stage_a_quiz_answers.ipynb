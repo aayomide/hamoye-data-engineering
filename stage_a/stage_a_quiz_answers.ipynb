{
  "cells": [
    {
      "cell_type": "markdown",
      "metadata": {
        "id": "view-in-github",
        "colab_type": "text"
      },
      "source": [
        "<a href=\"https://colab.research.google.com/github/aayomide/hamoye-data-engineering/blob/main/stage_a/stage_a_quiz_answers.ipynb\" target=\"_parent\"><img src=\"https://colab.research.google.com/assets/colab-badge.svg\" alt=\"Open In Colab\"/></a>"
      ]
    },
    {
      "cell_type": "markdown",
      "metadata": {
        "id": "GI33HJnWR69W"
      },
      "source": [
        "#### STAGE A - PYTHON FOR MACHNE LEARNING QUIZ ANSWERS"
      ]
    },
    {
      "cell_type": "code",
      "execution_count": null,
      "metadata": {
        "id": "uX7XzDJeR69Z"
      },
      "outputs": [],
      "source": [
        "# import libraries\n",
        "import pandas as pd\n",
        "import numpy as np"
      ]
    },
    {
      "cell_type": "code",
      "execution_count": null,
      "metadata": {
        "id": "XL8oJu6XR69c",
        "outputId": "70571211-d461-43b8-89a4-7f74eb25cc2d"
      },
      "outputs": [
        {
          "data": {
            "text/html": [
              "<div>\n",
              "<style scoped>\n",
              "    .dataframe tbody tr th:only-of-type {\n",
              "        vertical-align: middle;\n",
              "    }\n",
              "\n",
              "    .dataframe tbody tr th {\n",
              "        vertical-align: top;\n",
              "    }\n",
              "\n",
              "    .dataframe thead th {\n",
              "        text-align: right;\n",
              "    }\n",
              "</style>\n",
              "<table border=\"1\" class=\"dataframe\">\n",
              "  <thead>\n",
              "    <tr style=\"text-align: right;\">\n",
              "      <th></th>\n",
              "      <th>Area Code</th>\n",
              "      <th>Area</th>\n",
              "      <th>Item Code</th>\n",
              "      <th>Item</th>\n",
              "      <th>Element Code</th>\n",
              "      <th>Element</th>\n",
              "      <th>Unit</th>\n",
              "      <th>Y2014</th>\n",
              "      <th>Y2015</th>\n",
              "      <th>Y2016</th>\n",
              "      <th>Y2017</th>\n",
              "      <th>Y2018</th>\n",
              "    </tr>\n",
              "  </thead>\n",
              "  <tbody>\n",
              "    <tr>\n",
              "      <th>0</th>\n",
              "      <td>4</td>\n",
              "      <td>Algeria</td>\n",
              "      <td>2501</td>\n",
              "      <td>Population</td>\n",
              "      <td>511</td>\n",
              "      <td>Total Population - Both sexes</td>\n",
              "      <td>1000 persons</td>\n",
              "      <td>38924.00</td>\n",
              "      <td>39728.00</td>\n",
              "      <td>40551.00</td>\n",
              "      <td>41389.00</td>\n",
              "      <td>42228.00</td>\n",
              "    </tr>\n",
              "    <tr>\n",
              "      <th>1</th>\n",
              "      <td>4</td>\n",
              "      <td>Algeria</td>\n",
              "      <td>2501</td>\n",
              "      <td>Population</td>\n",
              "      <td>5301</td>\n",
              "      <td>Domestic supply quantity</td>\n",
              "      <td>1000 tonnes</td>\n",
              "      <td>0.00</td>\n",
              "      <td>0.00</td>\n",
              "      <td>0.00</td>\n",
              "      <td>0.00</td>\n",
              "      <td>0.00</td>\n",
              "    </tr>\n",
              "    <tr>\n",
              "      <th>2</th>\n",
              "      <td>4</td>\n",
              "      <td>Algeria</td>\n",
              "      <td>2901</td>\n",
              "      <td>Grand Total</td>\n",
              "      <td>664</td>\n",
              "      <td>Food supply (kcal/capita/day)</td>\n",
              "      <td>kcal/capita/day</td>\n",
              "      <td>3377.00</td>\n",
              "      <td>3379.00</td>\n",
              "      <td>3372.00</td>\n",
              "      <td>3341.00</td>\n",
              "      <td>3322.00</td>\n",
              "    </tr>\n",
              "    <tr>\n",
              "      <th>3</th>\n",
              "      <td>4</td>\n",
              "      <td>Algeria</td>\n",
              "      <td>2901</td>\n",
              "      <td>Grand Total</td>\n",
              "      <td>674</td>\n",
              "      <td>Protein supply quantity (g/capita/day)</td>\n",
              "      <td>g/capita/day</td>\n",
              "      <td>94.90</td>\n",
              "      <td>94.35</td>\n",
              "      <td>94.72</td>\n",
              "      <td>92.82</td>\n",
              "      <td>91.83</td>\n",
              "    </tr>\n",
              "    <tr>\n",
              "      <th>4</th>\n",
              "      <td>4</td>\n",
              "      <td>Algeria</td>\n",
              "      <td>2901</td>\n",
              "      <td>Grand Total</td>\n",
              "      <td>684</td>\n",
              "      <td>Fat supply quantity (g/capita/day)</td>\n",
              "      <td>g/capita/day</td>\n",
              "      <td>80.06</td>\n",
              "      <td>79.36</td>\n",
              "      <td>77.40</td>\n",
              "      <td>80.19</td>\n",
              "      <td>77.28</td>\n",
              "    </tr>\n",
              "  </tbody>\n",
              "</table>\n",
              "</div>"
            ],
            "text/plain": [
              "   Area Code     Area  Item Code         Item  Element Code  \\\n",
              "0          4  Algeria       2501   Population           511   \n",
              "1          4  Algeria       2501   Population          5301   \n",
              "2          4  Algeria       2901  Grand Total           664   \n",
              "3          4  Algeria       2901  Grand Total           674   \n",
              "4          4  Algeria       2901  Grand Total           684   \n",
              "\n",
              "                                  Element             Unit     Y2014  \\\n",
              "0           Total Population - Both sexes     1000 persons  38924.00   \n",
              "1                Domestic supply quantity      1000 tonnes      0.00   \n",
              "2           Food supply (kcal/capita/day)  kcal/capita/day   3377.00   \n",
              "3  Protein supply quantity (g/capita/day)     g/capita/day     94.90   \n",
              "4      Fat supply quantity (g/capita/day)     g/capita/day     80.06   \n",
              "\n",
              "      Y2015     Y2016     Y2017     Y2018  \n",
              "0  39728.00  40551.00  41389.00  42228.00  \n",
              "1      0.00      0.00      0.00      0.00  \n",
              "2   3379.00   3372.00   3341.00   3322.00  \n",
              "3     94.35     94.72     92.82     91.83  \n",
              "4     79.36     77.40     80.19     77.28  "
            ]
          },
          "execution_count": 2,
          "metadata": {},
          "output_type": "execute_result"
        }
      ],
      "source": [
        "file_url = 'https://github.com/HamoyeHQ/HDSC-Introduction-to-Python-for-machine-learning/files/7768140/FoodBalanceSheets_E_Africa_NOFLAG.csv'\n",
        "\n",
        "df_food = pd.read_csv(file_url, encoding='latin-1')\n",
        "df_food.head()"
      ]
    },
    {
      "cell_type": "code",
      "execution_count": null,
      "metadata": {
        "id": "fmxVU6EqR69d",
        "outputId": "36d6c486-5f07-4e82-b0fc-fe8d9efedea7"
      },
      "outputs": [
        {
          "name": "stdout",
          "output_type": "stream",
          "text": [
            "(60943, 12)\n",
            "<class 'pandas.core.frame.DataFrame'>\n",
            "RangeIndex: 60943 entries, 0 to 60942\n",
            "Data columns (total 12 columns):\n",
            " #   Column        Non-Null Count  Dtype  \n",
            "---  ------        --------------  -----  \n",
            " 0   Area Code     60943 non-null  int64  \n",
            " 1   Area          60943 non-null  object \n",
            " 2   Item Code     60943 non-null  int64  \n",
            " 3   Item          60943 non-null  object \n",
            " 4   Element Code  60943 non-null  int64  \n",
            " 5   Element       60943 non-null  object \n",
            " 6   Unit          60943 non-null  object \n",
            " 7   Y2014         59354 non-null  float64\n",
            " 8   Y2015         59395 non-null  float64\n",
            " 9   Y2016         59408 non-null  float64\n",
            " 10  Y2017         59437 non-null  float64\n",
            " 11  Y2018         59507 non-null  float64\n",
            "dtypes: float64(5), int64(3), object(4)\n",
            "memory usage: 5.6+ MB\n"
          ]
        }
      ],
      "source": [
        "# check file info\n",
        "print(df_food.shape)\n",
        "df_food.info()"
      ]
    },
    {
      "cell_type": "code",
      "execution_count": null,
      "metadata": {
        "id": "yoDo54P-R69e",
        "outputId": "85766144-055c-4713-e8df-8c5d76dadc77"
      },
      "outputs": [
        {
          "data": {
            "text/plain": [
              "count     59437.00\n",
              "mean        140.92\n",
              "std        1671.86\n",
              "min       -1582.00\n",
              "25%           0.00\n",
              "50%           0.10\n",
              "75%           9.00\n",
              "max      190873.00\n",
              "Name: Y2017, dtype: float64"
            ]
          },
          "execution_count": 4,
          "metadata": {},
          "output_type": "execute_result"
        }
      ],
      "source": [
        "# Question 1\n",
        "# What is the mean and standard deviation across the whole dataset for the year 2017 to 2 decimal places?\n",
        "\n",
        "df_food['Y2017'].describe().round(2)"
      ]
    },
    {
      "cell_type": "markdown",
      "metadata": {
        "id": "csifMq67R69e"
      },
      "source": [
        "> The mean and the standard deviation across the whole dataset for the year 2017 is 140.92 and 1671.86 respectively."
      ]
    },
    {
      "cell_type": "code",
      "execution_count": null,
      "metadata": {
        "id": "FnTeFwWgR69f",
        "outputId": "71d0e7a5-e495-4dc2-c39e-14fdf6c8b127"
      },
      "outputs": [
        {
          "data": {
            "text/plain": [
              "(1589, 2.607)"
            ]
          },
          "execution_count": 5,
          "metadata": {},
          "output_type": "execute_result"
        }
      ],
      "source": [
        "# Question 2\n",
        "# What is the total number and percentage of missing data in 2014 to 3 decimal places?\n",
        "\n",
        "(\n",
        "    df_food['Y2014'].isnull().sum() ,\n",
        "    round(df_food['Y2014'].isnull().mean() * 100, 3)\n",
        ")"
      ]
    },
    {
      "cell_type": "markdown",
      "metadata": {
        "id": "dgsZIXCNR69f"
      },
      "source": [
        "> The total number and percentage of missing data in 2014 is 1589 and 2.607% respectively."
      ]
    },
    {
      "cell_type": "code",
      "execution_count": null,
      "metadata": {
        "id": "GEufg9LfR69f",
        "outputId": "6b54431e-bb39-4f6d-a795-e3cf2493df6c"
      },
      "outputs": [
        {
          "ename": "TypeError",
          "evalue": "'tuple' object does not support item assignment",
          "output_type": "error",
          "traceback": [
            "\u001b[1;31m---------------------------------------------------------------------------\u001b[0m",
            "\u001b[1;31mTypeError\u001b[0m                                 Traceback (most recent call last)",
            "Cell \u001b[1;32mIn[6], line 6\u001b[0m\n\u001b[0;32m      1\u001b[0m \u001b[38;5;66;03m# Question 3\u001b[39;00m\n\u001b[0;32m      2\u001b[0m \u001b[38;5;66;03m# Given the following python code, what would the output of the code give?\u001b[39;00m\n\u001b[0;32m      4\u001b[0m my_tuppy \u001b[38;5;241m=\u001b[39m (\u001b[38;5;241m1\u001b[39m,\u001b[38;5;241m2\u001b[39m,\u001b[38;5;241m5\u001b[39m,\u001b[38;5;241m8\u001b[39m)\n\u001b[1;32m----> 6\u001b[0m my_tuppy[\u001b[38;5;241m2\u001b[39m] \u001b[38;5;241m=\u001b[39m \u001b[38;5;241m6\u001b[39m\n",
            "\u001b[1;31mTypeError\u001b[0m: 'tuple' object does not support item assignment"
          ]
        }
      ],
      "source": [
        "# Question 3\n",
        "# Given the following python code, what would the output of the code give?\n",
        "\n",
        "my_tuppy = (1,2,5,8)\n",
        "\n",
        "my_tuppy[2] = 6"
      ]
    },
    {
      "cell_type": "code",
      "execution_count": null,
      "metadata": {
        "id": "jmfyo0V5R69g",
        "outputId": "6ef8b8e3-b799-4441-f48a-486e08b8f3c2"
      },
      "outputs": [
        {
          "data": {
            "text/plain": [
              "49"
            ]
          },
          "execution_count": 9,
          "metadata": {},
          "output_type": "execute_result"
        }
      ],
      "source": [
        "# Question 4\n",
        "# What is the total number of unique countries in the dataset?\n",
        "\n",
        "df_food['Area'].nunique()"
      ]
    },
    {
      "cell_type": "code",
      "execution_count": null,
      "metadata": {
        "id": "Fu_c49npR69g"
      },
      "outputs": [],
      "source": [
        "# Question 5\n",
        "# A pandas Dataframe with dimensions (100,3) has how many features and observations?\n",
        "\n",
        "#answer: 3 features and 100 observations"
      ]
    },
    {
      "cell_type": "code",
      "execution_count": null,
      "metadata": {
        "id": "I_gKNaTAR69h",
        "outputId": "ea1a3a99-753d-4028-8f4f-3efae7e0c92c"
      },
      "outputs": [
        {
          "data": {
            "text/plain": [
              "Y2017    292836.0\n",
              "Name: Processing, dtype: float64"
            ]
          },
          "execution_count": 8,
          "metadata": {},
          "output_type": "execute_result"
        }
      ],
      "source": [
        "# Question 7\n",
        "# Perform a groupby operation on ‘Element’.  What is the total number of the sum of Processing in 2017?\n",
        "\n",
        "df_food.groupby('Element')[['Y2017']].sum()\\\n",
        "        .loc['Processing']"
      ]
    },
    {
      "cell_type": "markdown",
      "metadata": {
        "id": "Y4OTj9QWR69i"
      },
      "source": [
        "> The total sum of processing in 2017 is 292836."
      ]
    },
    {
      "cell_type": "code",
      "execution_count": null,
      "metadata": {
        "id": "kKea9lAUR69i",
        "outputId": "10db256b-dd66-4d33-854c-cee4254bee51"
      },
      "outputs": [
        {
          "data": {
            "text/plain": [
              "Area     Guinea-Bissau\n",
              "Y2017         19102.77\n",
              "Name: 6, dtype: object"
            ]
          },
          "execution_count": 9,
          "metadata": {},
          "output_type": "execute_result"
        }
      ],
      "source": [
        "# Question 8\n",
        "# Select columns ‘Y2017’ and ‘Area’, Perform a groupby operation on ‘Area’.  Which of these Areas had the 7th lowest sum in 2017?\n",
        "\n",
        "df_food.groupby('Area')['Y2017'].sum()\\\n",
        "    .sort_values()\\\n",
        "    .reset_index()\\\n",
        "    .iloc[6]"
      ]
    },
    {
      "cell_type": "markdown",
      "metadata": {
        "id": "1mRLKY6cR69j"
      },
      "source": [
        "> The Area with the 7th lowest sum in year 2017 is Guinea-Bissau."
      ]
    },
    {
      "cell_type": "code",
      "execution_count": null,
      "metadata": {
        "id": "KrGsJAByR69j",
        "outputId": "f3d0473d-e473-45c0-fd0b-ae32291cb388"
      },
      "outputs": [
        {
          "data": {
            "text/plain": [
              "'e'"
            ]
          },
          "execution_count": 10,
          "metadata": {},
          "output_type": "execute_result"
        }
      ],
      "source": [
        "# Question 10\n",
        "# What would be the output for?\n",
        "\n",
        "S = [['him', 'sell'], [90, 28, 43]]\n",
        "\n",
        "S[0][1][1]"
      ]
    },
    {
      "cell_type": "code",
      "execution_count": null,
      "metadata": {
        "id": "Hq3yNicKR69k",
        "outputId": "d156951d-66a5-4654-b1fa-4811d418d597"
      },
      "outputs": [
        {
          "data": {
            "text/plain": [
              "Y2014    58749.83\n",
              "Y2017    54316.91\n",
              "Y2015    34910.99\n",
              "Y2016    33140.12\n",
              "Y2018    20577.91\n",
              "Name: Stock Variation, dtype: float64"
            ]
          },
          "execution_count": 11,
          "metadata": {},
          "output_type": "execute_result"
        }
      ],
      "source": [
        "# Question 11\n",
        "# Perform a groupby operation on ‘Element’.  What year has the highest sum of Stock Variation?\n",
        "\n",
        "df_food.groupby('Element')[['Y2014', 'Y2015', 'Y2016', 'Y2017', 'Y2018']].sum()\\\n",
        "        .loc['Stock Variation']\\\n",
        "        .sort_values(ascending=False)"
      ]
    },
    {
      "cell_type": "markdown",
      "metadata": {
        "id": "B3kEx4TwR69k"
      },
      "source": [
        "> The result shows that the Year 2014 had the highest sum of Stock Variation."
      ]
    },
    {
      "cell_type": "code",
      "execution_count": null,
      "metadata": {
        "id": "_5VzemaPR69k",
        "outputId": "a6c62b22-c5ee-4403-d82a-1fa1220c6b05"
      },
      "outputs": [
        {
          "data": {
            "text/plain": [
              "Y2015    4251.81\n",
              "Y2018    4039.32\n",
              "Name: Wine, dtype: float64"
            ]
          },
          "execution_count": 12,
          "metadata": {},
          "output_type": "execute_result"
        }
      ],
      "source": [
        "# Question 13\n",
        "# Answer the following questions based on the African food production dataset provided by the FAO website already provided\n",
        "# What is the total sum of Wine produced in 2015 and 2018 respectively?\n",
        "# Hint: Perform a groupby sum aggregation on ‘Item’\n",
        "\n",
        "df_food.groupby('Item')[['Y2015', 'Y2018']].sum()\\\n",
        "        .loc['Wine']"
      ]
    },
    {
      "cell_type": "code",
      "execution_count": null,
      "metadata": {
        "id": "UXhQu9jXR69l",
        "outputId": "ebc4e2e9-1609-4536-d36f-f9230f4a1cc8"
      },
      "outputs": [
        {
          "data": {
            "text/plain": [
              "Item Code      -0.024683\n",
              "Area Code      -0.000209\n",
              "Y2016           0.023444\n",
              "Y2015           0.023889\n",
              "Y2017           0.024254\n",
              "Y2018           0.024279\n",
              "Y2014           0.024457\n",
              "Element Code    1.000000\n",
              "Name: Element Code, dtype: float64"
            ]
          },
          "execution_count": 13,
          "metadata": {},
          "output_type": "execute_result"
        }
      ],
      "source": [
        "# Question 14\n",
        "# Which year had the least correlation with ‘Element Code’?\n",
        "\n",
        "df_food.select_dtypes(include='number').corr()\\\n",
        "        ['Element Code']\\\n",
        "        .sort_values()"
      ]
    },
    {
      "cell_type": "markdown",
      "metadata": {
        "id": "5o9hvXCeR69l"
      },
      "source": [
        "> The year with the least correlation with Element Code is 2016."
      ]
    },
    {
      "cell_type": "code",
      "execution_count": null,
      "metadata": {
        "id": "CpNOjIrdR69l",
        "outputId": "02bb136b-026c-4ad6-e136-3a2ab16b58b1"
      },
      "outputs": [
        {
          "data": {
            "text/plain": [
              "Area\n",
              "Nigeria    1483268.23\n",
              "Name: Y2017, dtype: float64"
            ]
          },
          "execution_count": 14,
          "metadata": {},
          "output_type": "execute_result"
        }
      ],
      "source": [
        "# Question 15\n",
        "# Select columns ‘Y2017’ and ‘Area’, Perform a groupby operation on ‘Area’.  Which of these Areas had the highest sum in 2017?\n",
        "\n",
        "df_food.groupby('Area')['Y2017'].sum()\\\n",
        "    .sort_values(ascending=False)\\\n",
        "    .head(1)"
      ]
    },
    {
      "cell_type": "markdown",
      "metadata": {
        "id": "1jOGhWwiR69m"
      },
      "source": [
        "> The Area with the highest sum in 2017 was Nigeria."
      ]
    },
    {
      "cell_type": "code",
      "execution_count": null,
      "metadata": {
        "id": "xkxSIyZjR69m",
        "outputId": "18080064-0ca2-4184-ebdb-49e8572f7936"
      },
      "outputs": [
        {
          "data": {
            "text/plain": [
              "array([[89, 63],\n",
              "       [92, 48]])"
            ]
          },
          "execution_count": 16,
          "metadata": {},
          "output_type": "execute_result"
        }
      ],
      "source": [
        "# Question 16\n",
        "# Given the following numpy array\n",
        "\n",
        "array  = np.array(\n",
        "    [ [94, 89, 63],\n",
        "      [93, 92, 48],\n",
        "      [92, 94, 56] ]\n",
        ")\n",
        "\n",
        "# How would you select  the elements in bold and italics from the array?\n",
        "\n",
        "array[:2,1:]"
      ]
    },
    {
      "cell_type": "code",
      "execution_count": null,
      "metadata": {
        "id": "rjR2P9ZHR69m"
      },
      "outputs": [],
      "source": [
        "# Question 17\n",
        "# If you have the following list\n",
        "\n",
        "lst = [[35, 'Portugal', 94], [33, 'Argentina', 93], [30 , 'Brazil', 92]]\n",
        "\n",
        "col = ['Age', 'Nationality', 'Overall']\n",
        "\n",
        "# How do you create a pandas DataFrame using this list, to look like the table below?"
      ]
    },
    {
      "cell_type": "code",
      "execution_count": null,
      "metadata": {
        "id": "79ch-UQ4R69m",
        "outputId": "ecbfe5da-29c0-41dc-dec9-b48b85fd5c8f"
      },
      "outputs": [
        {
          "data": {
            "text/html": [
              "<div>\n",
              "<style scoped>\n",
              "    .dataframe tbody tr th:only-of-type {\n",
              "        vertical-align: middle;\n",
              "    }\n",
              "\n",
              "    .dataframe tbody tr th {\n",
              "        vertical-align: top;\n",
              "    }\n",
              "\n",
              "    .dataframe thead th {\n",
              "        text-align: right;\n",
              "    }\n",
              "</style>\n",
              "<table border=\"1\" class=\"dataframe\">\n",
              "  <thead>\n",
              "    <tr style=\"text-align: right;\">\n",
              "      <th></th>\n",
              "      <th>Age</th>\n",
              "      <th>Nationality</th>\n",
              "      <th>Overall</th>\n",
              "    </tr>\n",
              "  </thead>\n",
              "  <tbody>\n",
              "    <tr>\n",
              "      <th>1</th>\n",
              "      <td>35</td>\n",
              "      <td>Portugal</td>\n",
              "      <td>94</td>\n",
              "    </tr>\n",
              "    <tr>\n",
              "      <th>2</th>\n",
              "      <td>33</td>\n",
              "      <td>Argentina</td>\n",
              "      <td>93</td>\n",
              "    </tr>\n",
              "    <tr>\n",
              "      <th>3</th>\n",
              "      <td>30</td>\n",
              "      <td>Brazil</td>\n",
              "      <td>92</td>\n",
              "    </tr>\n",
              "  </tbody>\n",
              "</table>\n",
              "</div>"
            ],
            "text/plain": [
              "   Age Nationality  Overall\n",
              "1   35    Portugal       94\n",
              "2   33   Argentina       93\n",
              "3   30      Brazil       92"
            ]
          },
          "execution_count": 18,
          "metadata": {},
          "output_type": "execute_result"
        }
      ],
      "source": [
        "pd.DataFrame(lst, columns=col, index=[i for i in range(1,4)])"
      ]
    },
    {
      "cell_type": "code",
      "execution_count": null,
      "metadata": {
        "id": "eWO2NDBnR69m"
      },
      "outputs": [],
      "source": [
        "# Question 18\n",
        "# Which of these python data structures is unorderly?\n",
        "\n",
        "# answer: Set and Dictionary"
      ]
    },
    {
      "cell_type": "code",
      "execution_count": null,
      "metadata": {
        "id": "kuaCBsONR69n",
        "outputId": "4b64512b-4877-42e4-cc38-2ae6493ce367"
      },
      "outputs": [
        {
          "data": {
            "text/plain": [
              "173.05"
            ]
          },
          "execution_count": 20,
          "metadata": {},
          "output_type": "execute_result"
        }
      ],
      "source": [
        "# Question 19\n",
        "# What is the total Protein supply quantity in Madagascar in 2015?\n",
        "\n",
        "# df_food[(df_food.Element == 'Protein supply quantity (g/capita/day)') & (df_food.Area == \"Madagascar\")]\n",
        "df_food[(df_food.Element.str.contains('Protein')) & (df_food.Area == 'Madagascar')]\\\n",
        "        ['Y2015']\\\n",
        "        .sum()\\\n",
        "        .round(2)"
      ]
    },
    {
      "cell_type": "markdown",
      "metadata": {
        "id": "CyCYGobNR69n"
      },
      "source": [
        "> The total protein supply quantity in Madagascar in 2015 is 173.05 g/capita/day."
      ]
    },
    {
      "cell_type": "code",
      "execution_count": null,
      "metadata": {
        "id": "ByMYZfwKR69n",
        "outputId": "4997662e-43a2-408a-c61c-3fb2867cc605"
      },
      "outputs": [
        {
          "data": {
            "text/plain": [
              "8"
            ]
          },
          "execution_count": 21,
          "metadata": {},
          "output_type": "execute_result"
        }
      ],
      "source": [
        "# Question 20\n",
        "# Consider the following list of tuples:\n",
        "\n",
        "y = [(2, 4), (7, 8), (1, 5, 9)]\n",
        "\n",
        "# How would you assign element 8 from the list to a variable x?\n",
        "y[1][1]"
      ]
    },
    {
      "cell_type": "markdown",
      "metadata": {
        "id": "kMMIPcDtR69o"
      },
      "source": []
    }
  ],
  "metadata": {
    "kernelspec": {
      "display_name": "Python 3",
      "language": "python",
      "name": "python3"
    },
    "language_info": {
      "codemirror_mode": {
        "name": "ipython",
        "version": 3
      },
      "file_extension": ".py",
      "mimetype": "text/x-python",
      "name": "python",
      "nbconvert_exporter": "python",
      "pygments_lexer": "ipython3",
      "version": "3.11.5"
    },
    "colab": {
      "provenance": [],
      "include_colab_link": true
    }
  },
  "nbformat": 4,
  "nbformat_minor": 0
}